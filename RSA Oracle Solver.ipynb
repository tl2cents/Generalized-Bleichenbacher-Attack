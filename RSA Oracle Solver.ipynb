{
 "cells": [
  {
   "cell_type": "code",
   "execution_count": 1,
   "id": "4c276ed4",
   "metadata": {},
   "outputs": [
    {
     "name": "stdout",
     "output_type": "stream",
     "text": [
      "[+] Try the prefix oracle_prfix = '10001111001'\n",
      "Using local loop back oracle for testing\n",
      "Generalized Bleichenbacher RSA Padding Oracle Attack\n",
      "  for more info see 1998 paper.\n",
      "\n",
      "Ciphertext of unpadded message: case 1 done 2357 times\n",
      "\n",
      "Completed!\n",
      "used the oracle 5239 times\n",
      "[+] decrypted message :  b'flag{this_is_a_sample_flag_for_testing!}'\n",
      "raw decryption in hex format: 0x666c61677b746869735f69735f615f73616d706c655f666c61675f666f725f74657374696e67217d\n"
     ]
    }
   ],
   "source": [
    "from GeneralizedBleichenbacherAttack import *\n",
    "\n",
    "if __name__ == \"__main__\":\n",
    "    # note : if the prefix is too long, time cost may be intolerable\n",
    "    # padded version\n",
    "    # oracle_prfix = bin(11451)[2:].zfill(16)\n",
    "    # choose_plaintext = pad_message(oracle_prfix , 1024//8 , b\"flag{this_is_a_sample_flag_for_testing!}\")    \n",
    "    \n",
    "    # unpadded version\n",
    "    oracle_prfix = bin(1145)[2:].zfill(11)\n",
    "    print(f\"[+] Try the prefix {oracle_prfix = }\")\n",
    "    choose_plaintext = b\"flag{this_is_a_sample_flag_for_testing!}\"\n",
    "    ciphertext, oracle, e, n = local_setup(oracle_prfix,choose_plaintext)\n",
    "    rsa_prefix_padding_oracle_attack(n,e,ciphertext,oracle_prfix,oracle)"
   ]
  },
  {
   "cell_type": "code",
   "execution_count": null,
   "id": "cd1f382f",
   "metadata": {},
   "outputs": [],
   "source": []
  }
 ],
 "metadata": {
  "kernelspec": {
   "display_name": "Python 3.10.8 64-bit (microsoft store)",
   "language": "python",
   "name": "python3"
  },
  "language_info": {
   "codemirror_mode": {
    "name": "ipython",
    "version": 3
   },
   "file_extension": ".py",
   "mimetype": "text/x-python",
   "name": "python",
   "nbconvert_exporter": "python",
   "pygments_lexer": "ipython3",
   "version": "3.10.8"
  },
  "vscode": {
   "interpreter": {
    "hash": "38171c2446b2dd1ec236e1ef6de2d787e8545ca65dbffe302698588997308b0a"
   }
  }
 },
 "nbformat": 4,
 "nbformat_minor": 5
}
